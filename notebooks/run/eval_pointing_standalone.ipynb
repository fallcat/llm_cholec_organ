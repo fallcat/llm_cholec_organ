{
 "cells": [
  {
   "cell_type": "code",
   "execution_count": 2,
   "id": "a7ed1877-dca7-4027-842d-433b1185b418",
   "metadata": {
    "tags": []
   },
   "outputs": [],
   "source": [
    "import os\n",
    "import sys\n",
    "\n",
    "ROOT_DIR = '../..'\n",
    "\n",
    "sys.path.append(ROOT_DIR)\n",
    "\n",
    "from notebooks_py.eval_pointing_standalone import evaluate_from_files"
   ]
  },
  {
   "cell_type": "code",
   "execution_count": 3,
   "id": "101d537f-973f-41a3-b309-2b9fd2c66b68",
   "metadata": {
    "tags": []
   },
   "outputs": [
    {
     "name": "stdout",
     "output_type": "stream",
     "text": [
      "================================================================================\n",
      "COMPREHENSIVE POINTING EVALUATION FROM FILES\n",
      "================================================================================\n",
      "\n",
      "============================================================\n",
      "Model: gpt-4o-mini\n",
      "============================================================\n",
      "⚠️  Directory not found: ../../results/pointing/zero_shot/gpt-4o-mini/cholecseg8k_pointing\n",
      "\n",
      "⚠️  No results found for zero_shot\n",
      "⚠️  Directory not found: ../../results/pointing/fewshot_standard/gpt-4o-mini/cholecseg8k_pointing\n",
      "\n",
      "⚠️  No results found for fewshot_standard\n",
      "⚠️  Directory not found: ../../results/pointing/fewshot_hard_negatives/gpt-4o-mini/cholecseg8k_pointing\n",
      "\n",
      "⚠️  No results found for fewshot_hard_negatives\n",
      "\n",
      "============================================================\n",
      "Model: claude-3-5-sonnet-20241022\n",
      "============================================================\n",
      "⚠️  Directory not found: ../../results/pointing/zero_shot/claude-3-5-sonnet-20241022/cholecseg8k_pointing\n",
      "\n",
      "⚠️  No results found for zero_shot\n",
      "⚠️  Directory not found: ../../results/pointing/fewshot_standard/claude-3-5-sonnet-20241022/cholecseg8k_pointing\n",
      "\n",
      "⚠️  No results found for fewshot_standard\n",
      "⚠️  Directory not found: ../../results/pointing/fewshot_hard_negatives/claude-3-5-sonnet-20241022/cholecseg8k_pointing\n",
      "\n",
      "⚠️  No results found for fewshot_hard_negatives\n",
      "\n",
      "============================================================\n",
      "Model: gemini-2.0-flash-exp\n",
      "============================================================\n",
      "⚠️  Directory not found: ../../results/pointing/zero_shot/gemini-2.0-flash-exp/cholecseg8k_pointing\n",
      "\n",
      "⚠️  No results found for zero_shot\n",
      "⚠️  Directory not found: ../../results/pointing/fewshot_standard/gemini-2.0-flash-exp/cholecseg8k_pointing\n",
      "\n",
      "⚠️  No results found for fewshot_standard\n",
      "⚠️  Directory not found: ../../results/pointing/fewshot_hard_negatives/gemini-2.0-flash-exp/cholecseg8k_pointing\n",
      "\n",
      "⚠️  No results found for fewshot_hard_negatives\n"
     ]
    }
   ],
   "source": [
    "evaluate_from_files(ROOT_DIR)"
   ]
  },
  {
   "cell_type": "code",
   "execution_count": null,
   "id": "550cab1b-9d76-41e1-ba35-53c899ee95a9",
   "metadata": {},
   "outputs": [],
   "source": []
  }
 ],
 "metadata": {
  "kernelspec": {
   "display_name": "Python 3 (ipykernel)",
   "language": "python",
   "name": "python3"
  },
  "language_info": {
   "codemirror_mode": {
    "name": "ipython",
    "version": 3
   },
   "file_extension": ".py",
   "mimetype": "text/x-python",
   "name": "python",
   "nbconvert_exporter": "python",
   "pygments_lexer": "ipython3",
   "version": "3.10.10"
  }
 },
 "nbformat": 4,
 "nbformat_minor": 5
}
