{
 "cells": [
  {
   "cell_type": "code",
   "execution_count": 2,
   "id": "5aa0083d-d7bb-47e0-8d5a-f5ebb32678d5",
   "metadata": {
    "tags": []
   },
   "outputs": [
    {
     "name": "stdout",
     "output_type": "stream",
     "text": [
      "✓ Environment setup complete\n"
     ]
    }
   ],
   "source": [
    "#!/usr/bin/env python\n",
    "\"\"\"\n",
    "Comprehensive Pointing Evaluation Pipeline\n",
    "Evaluates zero-shot and few-shot (with/without hard negatives) pointing performance\n",
    "\"\"\"\n",
    "\n",
    "import os\n",
    "import sys\n",
    "import json\n",
    "from pathlib import Path\n",
    "from datetime import datetime\n",
    "\n",
    "# Add src to path\n",
    "ROOT_DIR = \"../..\"\n",
    "sys.path.append(os.path.join(ROOT_DIR, 'src'))\n",
    "\n",
    "# Load API keys\n",
    "with open(f\"{ROOT_DIR}/API_KEYS2.json\", \"r\") as file:\n",
    "    api_keys = json.load(file)\n",
    "\n",
    "os.environ['OPENAI_API_KEY'] = api_keys['OPENAI_API_KEY']\n",
    "os.environ['ANTHROPIC_API_KEY'] = api_keys['ANTHROPIC_API_KEY']\n",
    "os.environ['GOOGLE_API_KEY'] = api_keys['GOOGLE_API_KEY']\n",
    "\n",
    "# Import from endopoint package\n",
    "from endopoint.datasets.cholecseg8k import CholecSeg8kAdapter\n",
    "from endopoint.eval import PointingEvaluator\n",
    "\n",
    "# Import dataset and few-shot utilities\n",
    "from datasets import load_dataset\n",
    "from few_shot_selection import (\n",
    "    load_balanced_indices,\n",
    "    load_fewshot_plan,\n",
    ")\n",
    "\n",
    "print(\"✓ Environment setup complete\")"
   ]
  },
  {
   "cell_type": "code",
   "execution_count": 3,
   "id": "cf041dd0-6f85-49f3-92c6-df239d072b68",
   "metadata": {
    "tags": []
   },
   "outputs": [],
   "source": [
    "def main(num_samples=None, models=None, use_cache=True):\n",
    "    \"\"\"Main evaluation function.\n",
    "    \n",
    "    Args:\n",
    "        num_samples: Optional number of samples to evaluate (uses linspace to select subset).\n",
    "                    If None, uses all test samples.\n",
    "        models: Optional list of model names to evaluate. If None, uses default models.\n",
    "        use_cache: Whether to use cache for model responses (default: True).\n",
    "                  Set to False to bypass cache (useful for testing changes).\n",
    "    \"\"\"\n",
    "    \n",
    "    # Configuration\n",
    "    DEFAULT_MODELS = [\n",
    "        \"gpt-4o-mini\",\n",
    "        \"claude-3-5-sonnet-20241022\",\n",
    "        \"gemini-2.0-flash-exp\"\n",
    "    ]\n",
    "    \n",
    "    MODELS = models if models is not None else DEFAULT_MODELS\n",
    "    \n",
    "    # Data directories\n",
    "    data_dir = Path(ROOT_DIR) / \"data_info\" / \"cholecseg8k\"\n",
    "    \n",
    "    # Test indices file\n",
    "    test_indices_file = str(data_dir / \"balanced_indices_train_100.json\")\n",
    "    \n",
    "    # Few-shot plan files\n",
    "    fewshot_plan_files = {\n",
    "        \"standard\": str(data_dir / \"fewshot_plan_train_pos1_neg1_seed43_excl100.json\"),\n",
    "        \"hard_negatives\": str(data_dir / \"fewshot_plan_train_pos1_neg1_nearmiss1_seed45_excl100.json\"),\n",
    "    }\n",
    "    \n",
    "    # Check if files exist\n",
    "    if not Path(test_indices_file).exists():\n",
    "        print(f\"❌ Test indices file not found: {test_indices_file}\")\n",
    "        print(\"Please run prepare_fewshot_examples.py first\")\n",
    "        return\n",
    "    \n",
    "    for plan_name, plan_file in fewshot_plan_files.items():\n",
    "        if not Path(plan_file).exists():\n",
    "            print(f\"❌ Few-shot plan file not found: {plan_file}\")\n",
    "            print(\"Please run prepare_fewshot_examples.py first\")\n",
    "            return\n",
    "    \n",
    "    print(\"\\n\" + \"=\"*60)\n",
    "    print(\"Starting Pointing Evaluation\")\n",
    "    print(\"=\"*60)\n",
    "    print(f\"Models to evaluate: {', '.join(MODELS)}\")\n",
    "    \n",
    "    # Load dataset\n",
    "    print(\"\\n📊 Loading CholecSeg8k dataset...\")\n",
    "    dataset = load_dataset(\"minwoosun/CholecSeg8k\")\n",
    "    print(f\"✓ Dataset loaded\")\n",
    "    \n",
    "    # Load test indices\n",
    "    test_indices = load_balanced_indices(test_indices_file)\n",
    "    print(f\"✓ Loaded {len(test_indices)} test samples\")\n",
    "    \n",
    "    # Select subset using linspace if requested\n",
    "    if num_samples is not None and num_samples < len(test_indices):\n",
    "        import numpy as np\n",
    "        # Use linspace to get evenly spaced indices\n",
    "        selected_idx = np.linspace(0, len(test_indices) - 1, num_samples, dtype=int)\n",
    "        test_indices = [test_indices[i] for i in selected_idx]\n",
    "        print(f\"📌 Selected {len(test_indices)} evenly spaced samples for evaluation\")\n",
    "    \n",
    "    # Load few-shot plans\n",
    "    fewshot_plans = {}\n",
    "    for plan_name, plan_file in fewshot_plan_files.items():\n",
    "        fewshot_plans[plan_name] = load_fewshot_plan(plan_file)\n",
    "        print(f\"✓ Loaded few-shot plan: {plan_name}\")\n",
    "    \n",
    "    # Create output directory with timestamp\n",
    "    timestamp = datetime.now().strftime(\"%Y%m%d_%H%M%S\")\n",
    "    output_dir = Path(ROOT_DIR) / \"results\" / f\"pointing_{timestamp}\"\n",
    "    \n",
    "    # Initialize evaluator\n",
    "    evaluator = PointingEvaluator(\n",
    "        models=MODELS,\n",
    "        dataset=dataset,\n",
    "        dataset_adapter=CholecSeg8kAdapter(),\n",
    "        canvas_width=768,\n",
    "        canvas_height=768,\n",
    "        output_dir=output_dir,\n",
    "        use_cache=use_cache,\n",
    "    )\n",
    "    \n",
    "    # Run evaluation\n",
    "    results = evaluator.run_full_evaluation(\n",
    "        test_indices=test_indices,\n",
    "        fewshot_plans=fewshot_plans,\n",
    "    )\n",
    "    \n",
    "    print(\"\\n✨ Evaluation complete!\")\n",
    "    \n",
    "    # Print final summary\n",
    "    print(\"\\n\" + \"=\"*60)\n",
    "    print(\"Final Summary\")\n",
    "    print(\"=\"*60)\n",
    "    \n",
    "    for model_name in MODELS:\n",
    "        print(f\"\\n{model_name}:\")\n",
    "        model_results = results[model_name]\n",
    "        for eval_type in [\"zero_shot\", \"few_shot_standard\", \"few_shot_hard_negatives\"]:\n",
    "            if eval_type in model_results:\n",
    "                metrics = model_results[eval_type][\"metrics\"]\n",
    "                print(f\"  {eval_type:25} Acc: {metrics['overall_accuracy']:.3f}, F1: {metrics['avg_f1']:.3f}\")\n"
   ]
  },
  {
   "cell_type": "code",
   "execution_count": 4,
   "id": "2d8712d4-80d7-40dd-941c-c9a20ca77506",
   "metadata": {
    "tags": []
   },
   "outputs": [
    {
     "name": "stdout",
     "output_type": "stream",
     "text": [
      "\n",
      "============================================================\n",
      "Starting Pointing Evaluation\n",
      "============================================================\n",
      "Models to evaluate: gpt-4o-mini, claude-3-5-sonnet-20241022, gemini-2.0-flash-exp\n",
      "\n",
      "📊 Loading CholecSeg8k dataset...\n",
      "✓ Dataset loaded\n",
      "✓ Loaded 100 test samples\n",
      "📌 Selected 5 evenly spaced samples for evaluation\n",
      "✓ Loaded few-shot plan: standard\n",
      "✓ Loaded few-shot plan: hard_negatives\n",
      "Initialized evaluator:\n",
      "  Models: ['gpt-4o-mini', 'claude-3-5-sonnet-20241022', 'gemini-2.0-flash-exp']\n",
      "  Organs: 12\n",
      "  Canvas: 768x768\n",
      "  Output: ../../results/pointing_20250901_041511\n",
      "\n",
      "📊 Evaluating 5 test samples\n",
      "\n",
      "============================================================\n",
      "Evaluating: gpt-4o-mini\n",
      "============================================================\n",
      "\n",
      "🔄 Running zero-shot with gpt-4o-mini...\n"
     ]
    },
    {
     "name": "stderr",
     "output_type": "stream",
     "text": [
      "gpt-4o-mini zero-shot: 100%|██████████| 5/5 [02:04<00:00, 24.81s/it]\n"
     ]
    },
    {
     "name": "stdout",
     "output_type": "stream",
     "text": [
      "\n",
      "🔄 Running few-shot (standard) with gpt-4o-mini...\n"
     ]
    },
    {
     "name": "stderr",
     "output_type": "stream",
     "text": [
      "gpt-4o-mini standard: 100%|██████████| 5/5 [01:53<00:00, 22.77s/it]\n"
     ]
    },
    {
     "name": "stdout",
     "output_type": "stream",
     "text": [
      "\n",
      "🔄 Running few-shot (hard_negatives) with gpt-4o-mini...\n"
     ]
    },
    {
     "name": "stderr",
     "output_type": "stream",
     "text": [
      "gpt-4o-mini hard_negatives: 100%|██████████| 5/5 [02:00<00:00, 24.09s/it]\n"
     ]
    },
    {
     "name": "stdout",
     "output_type": "stream",
     "text": [
      "\n",
      "📊 gpt-4o-mini Results:\n",
      "  zero_shot:\n",
      "    Overall Accuracy: 0.617\n",
      "    Avg F1: 0.676\n",
      "  few_shot_standard:\n",
      "    Overall Accuracy: 0.583\n",
      "    Avg F1: 0.615\n",
      "  few_shot_hard_negatives:\n",
      "    Overall Accuracy: 0.617\n",
      "    Avg F1: 0.648\n",
      "\n",
      "============================================================\n",
      "Evaluating: claude-3-5-sonnet-20241022\n",
      "============================================================\n",
      "\n",
      "🔄 Running zero-shot with claude-3-5-sonnet-20241022...\n"
     ]
    },
    {
     "name": "stderr",
     "output_type": "stream",
     "text": [
      "claude-3-5-sonnet-20241022 zero-shot: 100%|██████████| 5/5 [02:27<00:00, 29.48s/it]\n"
     ]
    },
    {
     "name": "stdout",
     "output_type": "stream",
     "text": [
      "\n",
      "🔄 Running few-shot (standard) with claude-3-5-sonnet-20241022...\n"
     ]
    },
    {
     "name": "stderr",
     "output_type": "stream",
     "text": [
      "claude-3-5-sonnet-20241022 standard: 100%|██████████| 5/5 [02:27<00:00, 29.56s/it]\n"
     ]
    },
    {
     "name": "stdout",
     "output_type": "stream",
     "text": [
      "\n",
      "🔄 Running few-shot (hard_negatives) with claude-3-5-sonnet-20241022...\n"
     ]
    },
    {
     "name": "stderr",
     "output_type": "stream",
     "text": [
      "claude-3-5-sonnet-20241022 hard_negatives: 100%|██████████| 5/5 [02:31<00:00, 30.35s/it]\n"
     ]
    },
    {
     "name": "stdout",
     "output_type": "stream",
     "text": [
      "\n",
      "📊 claude-3-5-sonnet-20241022 Results:\n",
      "  zero_shot:\n",
      "    Overall Accuracy: 0.700\n",
      "    Avg F1: 0.737\n",
      "  few_shot_standard:\n",
      "    Overall Accuracy: 0.700\n",
      "    Avg F1: 0.737\n",
      "  few_shot_hard_negatives:\n",
      "    Overall Accuracy: 0.700\n",
      "    Avg F1: 0.737\n",
      "\n",
      "============================================================\n",
      "Evaluating: gemini-2.0-flash-exp\n",
      "============================================================\n",
      "\n",
      "🔄 Running zero-shot with gemini-2.0-flash-exp...\n"
     ]
    },
    {
     "name": "stderr",
     "output_type": "stream",
     "text": [
      "gemini-2.0-flash-exp zero-shot: 100%|██████████| 5/5 [03:21<00:00, 40.30s/it]\n"
     ]
    },
    {
     "name": "stdout",
     "output_type": "stream",
     "text": [
      "\n",
      "🔄 Running few-shot (standard) with gemini-2.0-flash-exp...\n"
     ]
    },
    {
     "name": "stderr",
     "output_type": "stream",
     "text": [
      "gemini-2.0-flash-exp standard: 100%|██████████| 5/5 [03:46<00:00, 45.36s/it]\n"
     ]
    },
    {
     "name": "stdout",
     "output_type": "stream",
     "text": [
      "\n",
      "🔄 Running few-shot (hard_negatives) with gemini-2.0-flash-exp...\n"
     ]
    },
    {
     "name": "stderr",
     "output_type": "stream",
     "text": [
      "gemini-2.0-flash-exp hard_negatives: 100%|██████████| 5/5 [03:55<00:00, 47.17s/it]\n"
     ]
    },
    {
     "name": "stdout",
     "output_type": "stream",
     "text": [
      "\n",
      "📊 gemini-2.0-flash-exp Results:\n",
      "  zero_shot:\n",
      "    Overall Accuracy: 0.800\n",
      "    Avg F1: 0.749\n",
      "  few_shot_standard:\n",
      "    Overall Accuracy: 0.583\n",
      "    Avg F1: 0.577\n",
      "  few_shot_hard_negatives:\n",
      "    Overall Accuracy: 0.567\n",
      "    Avg F1: 0.504\n",
      "\n",
      "💾 Saving results to ../../results/pointing_20250901_041511\n"
     ]
    },
    {
     "ename": "ImportError",
     "evalue": "Missing optional dependency 'tabulate'.  Use pip or conda to install tabulate.",
     "output_type": "error",
     "traceback": [
      "\u001b[0;31m---------------------------------------------------------------------------\u001b[0m",
      "\u001b[0;31mModuleNotFoundError\u001b[0m                       Traceback (most recent call last)",
      "\u001b[0;32m/opt/conda/envs/rapids/lib/python3.10/site-packages/pandas/compat/_optional.py\u001b[0m in \u001b[0;36mimport_optional_dependency\u001b[0;34m(name, extra, errors, min_version)\u001b[0m\n\u001b[1;32m    140\u001b[0m     \u001b[0;32mtry\u001b[0m\u001b[0;34m:\u001b[0m\u001b[0;34m\u001b[0m\u001b[0;34m\u001b[0m\u001b[0m\n\u001b[0;32m--> 141\u001b[0;31m         \u001b[0mmodule\u001b[0m \u001b[0;34m=\u001b[0m \u001b[0mimportlib\u001b[0m\u001b[0;34m.\u001b[0m\u001b[0mimport_module\u001b[0m\u001b[0;34m(\u001b[0m\u001b[0mname\u001b[0m\u001b[0;34m)\u001b[0m\u001b[0;34m\u001b[0m\u001b[0;34m\u001b[0m\u001b[0m\n\u001b[0m\u001b[1;32m    142\u001b[0m     \u001b[0;32mexcept\u001b[0m \u001b[0mImportError\u001b[0m\u001b[0;34m:\u001b[0m\u001b[0;34m\u001b[0m\u001b[0;34m\u001b[0m\u001b[0m\n",
      "\u001b[0;32m/opt/conda/envs/rapids/lib/python3.10/importlib/__init__.py\u001b[0m in \u001b[0;36mimport_module\u001b[0;34m(name, package)\u001b[0m\n\u001b[1;32m    125\u001b[0m             \u001b[0mlevel\u001b[0m \u001b[0;34m+=\u001b[0m \u001b[0;36m1\u001b[0m\u001b[0;34m\u001b[0m\u001b[0;34m\u001b[0m\u001b[0m\n\u001b[0;32m--> 126\u001b[0;31m     \u001b[0;32mreturn\u001b[0m \u001b[0m_bootstrap\u001b[0m\u001b[0;34m.\u001b[0m\u001b[0m_gcd_import\u001b[0m\u001b[0;34m(\u001b[0m\u001b[0mname\u001b[0m\u001b[0;34m[\u001b[0m\u001b[0mlevel\u001b[0m\u001b[0;34m:\u001b[0m\u001b[0;34m]\u001b[0m\u001b[0;34m,\u001b[0m \u001b[0mpackage\u001b[0m\u001b[0;34m,\u001b[0m \u001b[0mlevel\u001b[0m\u001b[0;34m)\u001b[0m\u001b[0;34m\u001b[0m\u001b[0;34m\u001b[0m\u001b[0m\n\u001b[0m\u001b[1;32m    127\u001b[0m \u001b[0;34m\u001b[0m\u001b[0m\n",
      "\u001b[0;32m/opt/conda/envs/rapids/lib/python3.10/importlib/_bootstrap.py\u001b[0m in \u001b[0;36m_gcd_import\u001b[0;34m(name, package, level)\u001b[0m\n",
      "\u001b[0;32m/opt/conda/envs/rapids/lib/python3.10/importlib/_bootstrap.py\u001b[0m in \u001b[0;36m_find_and_load\u001b[0;34m(name, import_)\u001b[0m\n",
      "\u001b[0;32m/opt/conda/envs/rapids/lib/python3.10/importlib/_bootstrap.py\u001b[0m in \u001b[0;36m_find_and_load_unlocked\u001b[0;34m(name, import_)\u001b[0m\n",
      "\u001b[0;31mModuleNotFoundError\u001b[0m: No module named 'tabulate'",
      "\nDuring handling of the above exception, another exception occurred:\n",
      "\u001b[0;31mImportError\u001b[0m                               Traceback (most recent call last)",
      "\u001b[0;32m/tmp/ipykernel_17283/922408582.py\u001b[0m in \u001b[0;36m<module>\u001b[0;34m\u001b[0m\n\u001b[1;32m      1\u001b[0m \u001b[0;31m# Cell 2: Call the function directly\u001b[0m\u001b[0;34m\u001b[0m\u001b[0;34m\u001b[0m\u001b[0m\n\u001b[0;32m----> 2\u001b[0;31m \u001b[0mmain\u001b[0m\u001b[0;34m(\u001b[0m\u001b[0mnum_samples\u001b[0m\u001b[0;34m=\u001b[0m\u001b[0;36m5\u001b[0m\u001b[0;34m,\u001b[0m \u001b[0muse_cache\u001b[0m\u001b[0;34m=\u001b[0m\u001b[0;32mFalse\u001b[0m\u001b[0;34m)\u001b[0m\u001b[0;34m\u001b[0m\u001b[0;34m\u001b[0m\u001b[0m\n\u001b[0m",
      "\u001b[0;32m/tmp/ipykernel_17283/2343764490.py\u001b[0m in \u001b[0;36mmain\u001b[0;34m(num_samples, models, use_cache)\u001b[0m\n\u001b[1;32m     87\u001b[0m \u001b[0;34m\u001b[0m\u001b[0m\n\u001b[1;32m     88\u001b[0m     \u001b[0;31m# Run evaluation\u001b[0m\u001b[0;34m\u001b[0m\u001b[0;34m\u001b[0m\u001b[0m\n\u001b[0;32m---> 89\u001b[0;31m     results = evaluator.run_full_evaluation(\n\u001b[0m\u001b[1;32m     90\u001b[0m         \u001b[0mtest_indices\u001b[0m\u001b[0;34m=\u001b[0m\u001b[0mtest_indices\u001b[0m\u001b[0;34m,\u001b[0m\u001b[0;34m\u001b[0m\u001b[0;34m\u001b[0m\u001b[0m\n\u001b[1;32m     91\u001b[0m         \u001b[0mfewshot_plans\u001b[0m\u001b[0;34m=\u001b[0m\u001b[0mfewshot_plans\u001b[0m\u001b[0;34m,\u001b[0m\u001b[0;34m\u001b[0m\u001b[0;34m\u001b[0m\u001b[0m\n",
      "\u001b[0;32m/shared_data0/weiqiuy/llm_cholec_organ/notebooks/run/../../src/endopoint/eval/evaluator.py\u001b[0m in \u001b[0;36mrun_full_evaluation\u001b[0;34m(self, test_indices, fewshot_plans)\u001b[0m\n\u001b[1;32m    414\u001b[0m \u001b[0;34m\u001b[0m\u001b[0m\n\u001b[1;32m    415\u001b[0m         \u001b[0;31m# Save results\u001b[0m\u001b[0;34m\u001b[0m\u001b[0;34m\u001b[0m\u001b[0m\n\u001b[0;32m--> 416\u001b[0;31m         \u001b[0mself\u001b[0m\u001b[0;34m.\u001b[0m\u001b[0msave_results\u001b[0m\u001b[0;34m(\u001b[0m\u001b[0mall_results\u001b[0m\u001b[0;34m)\u001b[0m\u001b[0;34m\u001b[0m\u001b[0;34m\u001b[0m\u001b[0m\n\u001b[0m\u001b[1;32m    417\u001b[0m \u001b[0;34m\u001b[0m\u001b[0m\n\u001b[1;32m    418\u001b[0m         \u001b[0;32mreturn\u001b[0m \u001b[0mall_results\u001b[0m\u001b[0;34m\u001b[0m\u001b[0;34m\u001b[0m\u001b[0m\n",
      "\u001b[0;32m/shared_data0/weiqiuy/llm_cholec_organ/notebooks/run/../../src/endopoint/eval/evaluator.py\u001b[0m in \u001b[0;36msave_results\u001b[0;34m(self, all_results)\u001b[0m\n\u001b[1;32m    460\u001b[0m             \u001b[0;32mif\u001b[0m \u001b[0mpd\u001b[0m \u001b[0;32mis\u001b[0m \u001b[0;32mnot\u001b[0m \u001b[0;32mNone\u001b[0m \u001b[0;32mand\u001b[0m \u001b[0;34m'summary_df'\u001b[0m \u001b[0;32min\u001b[0m \u001b[0mlocals\u001b[0m\u001b[0;34m(\u001b[0m\u001b[0;34m)\u001b[0m\u001b[0;34m:\u001b[0m\u001b[0;34m\u001b[0m\u001b[0;34m\u001b[0m\u001b[0m\n\u001b[1;32m    461\u001b[0m                 \u001b[0mf\u001b[0m\u001b[0;34m.\u001b[0m\u001b[0mwrite\u001b[0m\u001b[0;34m(\u001b[0m\u001b[0;34m\"## Summary\\n\\n\"\u001b[0m\u001b[0;34m)\u001b[0m\u001b[0;34m\u001b[0m\u001b[0;34m\u001b[0m\u001b[0m\n\u001b[0;32m--> 462\u001b[0;31m                 \u001b[0mf\u001b[0m\u001b[0;34m.\u001b[0m\u001b[0mwrite\u001b[0m\u001b[0;34m(\u001b[0m\u001b[0msummary_df\u001b[0m\u001b[0;34m.\u001b[0m\u001b[0mto_markdown\u001b[0m\u001b[0;34m(\u001b[0m\u001b[0mindex\u001b[0m\u001b[0;34m=\u001b[0m\u001b[0;32mFalse\u001b[0m\u001b[0;34m)\u001b[0m\u001b[0;34m)\u001b[0m\u001b[0;34m\u001b[0m\u001b[0;34m\u001b[0m\u001b[0m\n\u001b[0m\u001b[1;32m    463\u001b[0m                 \u001b[0mf\u001b[0m\u001b[0;34m.\u001b[0m\u001b[0mwrite\u001b[0m\u001b[0;34m(\u001b[0m\u001b[0;34m\"\\n\\n\"\u001b[0m\u001b[0;34m)\u001b[0m\u001b[0;34m\u001b[0m\u001b[0;34m\u001b[0m\u001b[0m\n\u001b[1;32m    464\u001b[0m \u001b[0;34m\u001b[0m\u001b[0m\n",
      "\u001b[0;32m/opt/conda/envs/rapids/lib/python3.10/site-packages/pandas/core/frame.py\u001b[0m in \u001b[0;36mto_markdown\u001b[0;34m(self, buf, mode, index, storage_options, **kwargs)\u001b[0m\n\u001b[1;32m   2840\u001b[0m         \u001b[0mkwargs\u001b[0m\u001b[0;34m.\u001b[0m\u001b[0msetdefault\u001b[0m\u001b[0;34m(\u001b[0m\u001b[0;34m\"tablefmt\"\u001b[0m\u001b[0;34m,\u001b[0m \u001b[0;34m\"pipe\"\u001b[0m\u001b[0;34m)\u001b[0m\u001b[0;34m\u001b[0m\u001b[0;34m\u001b[0m\u001b[0m\n\u001b[1;32m   2841\u001b[0m         \u001b[0mkwargs\u001b[0m\u001b[0;34m.\u001b[0m\u001b[0msetdefault\u001b[0m\u001b[0;34m(\u001b[0m\u001b[0;34m\"showindex\"\u001b[0m\u001b[0;34m,\u001b[0m \u001b[0mindex\u001b[0m\u001b[0;34m)\u001b[0m\u001b[0;34m\u001b[0m\u001b[0;34m\u001b[0m\u001b[0m\n\u001b[0;32m-> 2842\u001b[0;31m         \u001b[0mtabulate\u001b[0m \u001b[0;34m=\u001b[0m \u001b[0mimport_optional_dependency\u001b[0m\u001b[0;34m(\u001b[0m\u001b[0;34m\"tabulate\"\u001b[0m\u001b[0;34m)\u001b[0m\u001b[0;34m\u001b[0m\u001b[0;34m\u001b[0m\u001b[0m\n\u001b[0m\u001b[1;32m   2843\u001b[0m         \u001b[0mresult\u001b[0m \u001b[0;34m=\u001b[0m \u001b[0mtabulate\u001b[0m\u001b[0;34m.\u001b[0m\u001b[0mtabulate\u001b[0m\u001b[0;34m(\u001b[0m\u001b[0mself\u001b[0m\u001b[0;34m,\u001b[0m \u001b[0;34m**\u001b[0m\u001b[0mkwargs\u001b[0m\u001b[0;34m)\u001b[0m\u001b[0;34m\u001b[0m\u001b[0;34m\u001b[0m\u001b[0m\n\u001b[1;32m   2844\u001b[0m         \u001b[0;32mif\u001b[0m \u001b[0mbuf\u001b[0m \u001b[0;32mis\u001b[0m \u001b[0;32mNone\u001b[0m\u001b[0;34m:\u001b[0m\u001b[0;34m\u001b[0m\u001b[0;34m\u001b[0m\u001b[0m\n",
      "\u001b[0;32m/opt/conda/envs/rapids/lib/python3.10/site-packages/pandas/compat/_optional.py\u001b[0m in \u001b[0;36mimport_optional_dependency\u001b[0;34m(name, extra, errors, min_version)\u001b[0m\n\u001b[1;32m    142\u001b[0m     \u001b[0;32mexcept\u001b[0m \u001b[0mImportError\u001b[0m\u001b[0;34m:\u001b[0m\u001b[0;34m\u001b[0m\u001b[0;34m\u001b[0m\u001b[0m\n\u001b[1;32m    143\u001b[0m         \u001b[0;32mif\u001b[0m \u001b[0merrors\u001b[0m \u001b[0;34m==\u001b[0m \u001b[0;34m\"raise\"\u001b[0m\u001b[0;34m:\u001b[0m\u001b[0;34m\u001b[0m\u001b[0;34m\u001b[0m\u001b[0m\n\u001b[0;32m--> 144\u001b[0;31m             \u001b[0;32mraise\u001b[0m \u001b[0mImportError\u001b[0m\u001b[0;34m(\u001b[0m\u001b[0mmsg\u001b[0m\u001b[0;34m)\u001b[0m\u001b[0;34m\u001b[0m\u001b[0;34m\u001b[0m\u001b[0m\n\u001b[0m\u001b[1;32m    145\u001b[0m         \u001b[0;32melse\u001b[0m\u001b[0;34m:\u001b[0m\u001b[0;34m\u001b[0m\u001b[0;34m\u001b[0m\u001b[0m\n\u001b[1;32m    146\u001b[0m             \u001b[0;32mreturn\u001b[0m \u001b[0;32mNone\u001b[0m\u001b[0;34m\u001b[0m\u001b[0;34m\u001b[0m\u001b[0m\n",
      "\u001b[0;31mImportError\u001b[0m: Missing optional dependency 'tabulate'.  Use pip or conda to install tabulate."
     ]
    }
   ],
   "source": [
    "# Cell 2: Call the function directly\n",
    "main(num_samples=5, use_cache=False)"
   ]
  },
  {
   "cell_type": "code",
   "execution_count": null,
   "id": "151063d8-1e94-4cda-87ea-f1f07d03d943",
   "metadata": {},
   "outputs": [],
   "source": []
  }
 ],
 "metadata": {
  "kernelspec": {
   "display_name": "Python 3 (ipykernel)",
   "language": "python",
   "name": "python3"
  },
  "language_info": {
   "codemirror_mode": {
    "name": "ipython",
    "version": 3
   },
   "file_extension": ".py",
   "mimetype": "text/x-python",
   "name": "python",
   "nbconvert_exporter": "python",
   "pygments_lexer": "ipython3",
   "version": "3.10.10"
  }
 },
 "nbformat": 4,
 "nbformat_minor": 5
}
