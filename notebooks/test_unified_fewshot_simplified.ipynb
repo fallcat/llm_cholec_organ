{
 "cells": [
  {
   "cell_type": "markdown",
   "metadata": {},
   "source": [
    "# Simplified Test: 200 Balanced Samples with Unified Module\n",
    "\n",
    "This notebook demonstrates the simplified API using the refactored modules."
   ]
  },
  {
   "cell_type": "code",
   "execution_count": 1,
   "metadata": {},
   "outputs": [
    {
     "name": "stdout",
     "output_type": "stream",
     "text": [
      "✅ Modules imported\n"
     ]
    }
   ],
   "source": [
    "import sys\n",
    "from pathlib import Path\n",
    "\n",
    "# Add src to path\n",
    "sys.path.insert(0, '/shared_data0/weiqiuy/llm_cholec_organ/src')\n",
    "\n",
    "from endopoint.datasets import build_dataset\n",
    "from endopoint.fewshot import UnifiedFewShotSelector\n",
    "\n",
    "print(\"✅ Modules imported\")"
   ]
  },
  {
   "cell_type": "markdown",
   "metadata": {},
   "source": [
    "## Test Function Using New Pipeline Method"
   ]
  },
  {
   "cell_type": "code",
   "execution_count": null,
   "metadata": {},
   "outputs": [],
   "source": "def test_dataset_simplified(dataset_name, dataset_config=None, force_regenerate=False):\n    \"\"\"Simplified test using the new pipeline method.\n    \n    All the balance analysis and configuration is now handled by the module.\n    \n    Args:\n        dataset_name: Name of the dataset\n        dataset_config: Optional dataset configuration\n        force_regenerate: If True, delete cache and regenerate\n    \"\"\"\n    print(\"\\n\" + \"=\"*70)\n    print(f\"Testing: {dataset_name}\")\n    print(\"=\"*70)\n    \n    # Default configurations\n    if dataset_config is None:\n        configs = {\n            \"cholecseg8k_local\": {\n                \"data_dir\": \"/shared_data0/weiqiuy/datasets/cholecseg8k\"\n            },\n            \"cholec_organs\": {\n                \"data_dir\": \"/shared_data0/weiqiuy/real_drs/data/abdomen_exlib\",\n                \"video_globs\": \"public\",\n                \"gen_seed\": 56,\n                \"train_val_seed\": 0\n            },\n            \"cholec_gonogo\": {\n                \"data_dir\": \"/shared_data0/weiqiuy/real_drs/data/abdomen_exlib\",\n                \"video_globs\": \"public\",\n                \"gen_seed\": 56,\n                \"train_val_seed\": 0\n            }\n        }\n        dataset_config = configs.get(dataset_name, {})\n    \n    # Load dataset\n    dataset = build_dataset(dataset_name, **dataset_config)\n    \n    print(f\"\\n📊 Dataset Info:\")\n    print(f\"  Tag: {dataset.dataset_tag}\")\n    print(f\"  Train: {dataset.total('train')} examples\")\n    print(f\"  Classes: {len(dataset.label_ids)}\")\n    \n    # Create selector with 200 samples and 30% minimum quota\n    output_dir = Path(f\"/shared_data0/weiqiuy/llm_cholec_organ/data_info/{dataset_name}_balanced_200\")\n    \n    # If force_regenerate, clear the cached balanced indices\n    if force_regenerate:\n        cache_file = output_dir / \"balanced_test_indices_advanced_200.json\"\n        if cache_file.exists():\n            print(f\"⚠️ Removing old cache file: {cache_file.name}\")\n            cache_file.unlink()\n            print(\"  Cache cleared - will regenerate with correct parameters\")\n    \n    selector = UnifiedFewShotSelector(\n        dataset=dataset,\n        output_dir=output_dir,\n        n_test_samples=200,  # 200 balanced samples\n        n_pos_examples=1,\n        n_neg_absent=1,\n        n_neg_wrong=1,\n        min_pixels=50,\n        seed=42,\n        cache_enabled=True\n    )\n    \n    print(f\"📁 Output directory: {output_dir}\")\n    print(f\"\\n🔧 Configuration:\")\n    print(f\"  Test samples: 200\")\n    print(f\"  Min quota for rare classes: 30% (60 samples)\")\n    print(f\"  Cap for abundant classes: 70% of ideal distribution\")\n    \n    # Run the complete pipeline with all analysis\n    results = selector.run_balanced_selection_pipeline(\n        split=\"train\",\n        visualize=True,  # Print detailed analysis\n        save_summary=True  # Save summary to file\n    )\n    \n    # Verify we got 200 samples\n    actual_samples = len(results['test_indices'])\n    if actual_samples != 200:\n        print(f\"\\n⚠️ WARNING: Expected 200 samples but got {actual_samples}\")\n        print(\"  Consider running with force_regenerate=True to clear cache\")\n    \n    # The pipeline already printed everything, just return results\n    return results\n\nprint(\"✅ Simplified test function updated with 30% minimum quota (60 samples)\")"
  },
  {
   "cell_type": "markdown",
   "metadata": {},
   "source": [
    "## Test All Datasets"
   ]
  },
  {
   "cell_type": "code",
   "execution_count": 3,
   "metadata": {},
   "outputs": [
    {
     "name": "stdout",
     "output_type": "stream",
     "text": [
      "\n",
      "======================================================================\n",
      "Testing: cholecseg8k_local\n",
      "======================================================================\n",
      "Video-based split created:\n",
      "  Total videos: 17\n",
      "  Train: 13 videos, 5760 frames\n",
      "  Validation: 1 videos, 560 frames\n",
      "  Test: 3 videos, 1760 frames\n",
      "  Train videos: video01, video09, video20, video52, video35, video48, video26, video43, video12, video27, video55, video18, video25\n",
      "  Val videos: video28\n",
      "  Test videos: video37, video17, video24\n",
      "\n",
      "📊 Dataset Info:\n",
      "  Tag: cholecseg8k_local\n",
      "  Train: 5760 examples\n",
      "  Classes: 12\n",
      "⚠️ Removing old cache file: balanced_test_indices_advanced_200.json\n",
      "  Cache cleared - will regenerate with correct parameters\n",
      "📁 Output directory: /shared_data0/weiqiuy/llm_cholec_organ/data_info/cholecseg8k_local_balanced_200\n",
      "\n",
      "🔧 Configuration:\n",
      "  Test samples: 200\n",
      "  Min quota for rare classes: 40% (80 samples)\n",
      "  Cap for abundant classes: 70% of ideal distribution\n",
      "\n",
      "🔄 Step 1: Computing presence matrix for train split...\n",
      "Loaded cached presence matrix from presence_matrix_train.npy\n",
      "\n",
      "📊 Class distribution in train set:\n",
      "  Abdominal Wall                   5015 samples ( 87.1%)\n",
      "  Liver                            5760 samples (100.0%)\n",
      "  Gastrointestinal Tract           2872 samples ( 49.9%)\n",
      "  Fat                              5439 samples ( 94.4%)\n",
      "  Grasper                          4574 samples ( 79.4%)\n",
      "  Connective Tissue                1600 samples ( 27.8%)\n",
      "  Blood                             692 samples ( 12.0%)\n",
      "  Cystic Duct                       239 samples (  4.1%)\n",
      "  L-hook Electrocautery            2144 samples ( 37.2%)\n",
      "  Gallbladder                      5192 samples ( 90.1%)\n",
      "  Hepatic Vein                      316 samples (  5.5%)\n",
      "  Liver Ligament                    240 samples (  4.2%)\n",
      "\n",
      "🔴 Rare classes (<20%): ['Blood', 'Cystic Duct', 'Hepatic Vein', 'Liver Ligament']\n",
      "\n",
      "🔄 Step 2: Selecting 200 balanced test samples...\n",
      "  Configuration:\n",
      "    - Rare class boost: top 4 rarest classes\n",
      "    - Min quota for rare: 80 samples (40%)\n",
      "    - Cap for abundant: 70% of ideal distribution\n",
      "Using advanced balanced selection (rare_top_k=4, min_quota=80)...\n",
      "Saved balanced indices to balanced_test_indices_advanced_200.json\n",
      "\n",
      "📊 Class Distribution Report\n",
      "============================================================\n",
      "\n",
      "Original Distribution (5760 samples):\n",
      "  Abdominal Wall                   5015 samples ( 87.1%)\n",
      "  Liver                            5760 samples (100.0%)\n",
      "  Gastrointestinal Tract           2872 samples ( 49.9%)\n",
      "  Fat                              5439 samples ( 94.4%)\n",
      "  Grasper                          4574 samples ( 79.4%)\n",
      "  Connective Tissue                1600 samples ( 27.8%)\n",
      "  Blood                             692 samples ( 12.0%)\n",
      "  Cystic Duct                       239 samples (  4.1%)\n",
      "  L-hook Electrocautery            2144 samples ( 37.2%)\n",
      "  Gallbladder                      5192 samples ( 90.1%)\n",
      "  Hepatic Vein                      316 samples (  5.5%)\n",
      "  Liver Ligament                    240 samples (  4.2%)\n",
      "\n",
      "🔴 Rare classes (<20%): ['Blood', 'Cystic Duct', 'Hepatic Vein', 'Liver Ligament']\n",
      "\n",
      "📊 Selected Distribution (200 samples):\n",
      "  Abdominal Wall                 200 samples (100.0%) ⬆️ (was  87.1%)\n",
      "  Liver                          200 samples (100.0%) ➡️ (was 100.0%)\n",
      "  Gastrointestinal Tract         161 samples ( 80.5%) ⬆️ (was  49.9%)\n",
      "  Fat                            200 samples (100.0%) ⬆️ (was  94.4%)\n",
      "  Grasper                        140 samples ( 70.0%) ⬇️ (was  79.4%)\n",
      "  Connective Tissue              140 samples ( 70.0%) ⬆️ (was  27.8%)\n",
      "  Blood                           80 samples ( 40.0%) ⬆️ (was  12.0%)\n",
      "  Cystic Duct                     80 samples ( 40.0%) ⬆️ (was   4.1%)\n",
      "  L-hook Electrocautery           81 samples ( 40.5%) ➡️ (was  37.2%)\n",
      "  Gallbladder                    140 samples ( 70.0%) ⬇️ (was  90.1%)\n",
      "  Hepatic Vein                    60 samples ( 30.0%) ⬆️ (was   5.5%)\n",
      "  Liver Ligament                  60 samples ( 30.0%) ⬆️ (was   4.2%)\n",
      "\n",
      "📈 Balance Metrics:\n",
      "  Original StdDev: 37.20%\n",
      "  Selected StdDev: 26.27%\n",
      "  Balance Improvement: 29.4%\n",
      "\n",
      "🔄 Step 3: Building pointing examples...\n",
      "Loaded cached pointing plan from fewshot_plan_pointing_200.json\n",
      "  Created 35 pointing examples\n",
      "    Positive: 12\n",
      "    Negative (absent): 11\n",
      "    Negative (wrong): 12\n",
      "\n",
      "🔄 Step 4: Building bounding box examples...\n",
      "Loaded cached bbox plan from fewshot_plan_bbox_200.json\n",
      "  Created 36 bbox examples\n",
      "    Positive: 12\n",
      "    Negative (absent): 11\n",
      "    Negative (wrong): 13\n",
      "    Multi-region: 3\n",
      "\n",
      "💾 Pipeline summary saved to: /shared_data0/weiqiuy/llm_cholec_organ/data_info/cholecseg8k_local_balanced_200/pipeline_summary.json\n"
     ]
    }
   ],
   "source": [
    "# Test CholecSeg8k - force regeneration to use correct 20% quota (40 samples)\n",
    "results_cholecseg8k = test_dataset_simplified(\"cholecseg8k_local\", force_regenerate=True)"
   ]
  },
  {
   "cell_type": "code",
   "execution_count": 4,
   "metadata": {},
   "outputs": [
    {
     "name": "stdout",
     "output_type": "stream",
     "text": [
      "\n",
      "======================================================================\n",
      "Testing: cholec_organs\n",
      "======================================================================\n",
      "Indexing training videos...\n"
     ]
    },
    {
     "name": "stderr",
     "output_type": "stream",
     "text": [
      "  Train videos: 100%|██████████| 96/96 [00:00<00:00, 555.34it/s]\n"
     ]
    },
    {
     "name": "stdout",
     "output_type": "stream",
     "text": [
      "Indexing test videos...\n"
     ]
    },
    {
     "name": "stderr",
     "output_type": "stream",
     "text": [
      "  Test videos: 100%|██████████| 25/25 [00:00<00:00, 538.57it/s]\n"
     ]
    },
    {
     "name": "stdout",
     "output_type": "stream",
     "text": [
      "Building examples list...\n"
     ]
    },
    {
     "name": "stderr",
     "output_type": "stream",
     "text": [
      "  Checking files: 100%|██████████| 1015/1015 [00:00<00:00, 3509.70it/s]\n"
     ]
    },
    {
     "name": "stdout",
     "output_type": "stream",
     "text": [
      "CholecOrgans dataset indexed:\n",
      "  Total examples: 1015\n",
      "  Train: 716 examples\n",
      "  Validation: 80 examples\n",
      "  Test: 219 examples\n",
      "\n",
      "📊 Dataset Info:\n",
      "  Tag: cholec_organs\n",
      "  Train: 716 examples\n",
      "  Classes: 3\n",
      "⚠️ Removing old cache file: balanced_test_indices_advanced_200.json\n",
      "  Cache cleared - will regenerate with correct parameters\n",
      "📁 Output directory: /shared_data0/weiqiuy/llm_cholec_organ/data_info/cholec_organs_balanced_200\n",
      "\n",
      "🔧 Configuration:\n",
      "  Test samples: 200\n",
      "  Min quota for rare classes: 40% (80 samples)\n",
      "  Cap for abundant classes: 70% of ideal distribution\n",
      "\n",
      "🔄 Step 1: Computing presence matrix for train split...\n",
      "Loaded cached presence matrix from presence_matrix_train.npy\n",
      "\n",
      "📊 Class distribution in train set:\n",
      "  Liver                             715 samples ( 99.9%)\n",
      "  Gallbladder                       713 samples ( 99.6%)\n",
      "  Hepatocystic Triangle             711 samples ( 99.3%)\n",
      "\n",
      "🔄 Step 2: Selecting 200 balanced test samples...\n",
      "  Configuration:\n",
      "    - Rare class boost: top 1 rarest classes\n",
      "    - Min quota for rare: 80 samples (40%)\n",
      "    - Cap for abundant: 70% of ideal distribution\n",
      "Using advanced balanced selection (rare_top_k=1, min_quota=80)...\n",
      "Saved balanced indices to balanced_test_indices_advanced_200.json\n",
      "\n",
      "📊 Class Distribution Report\n",
      "============================================================\n",
      "\n",
      "Original Distribution (716 samples):\n",
      "  Liver                             715 samples ( 99.9%)\n",
      "  Gallbladder                       713 samples ( 99.6%)\n",
      "  Hepatocystic Triangle             711 samples ( 99.3%)\n",
      "\n",
      "📊 Selected Distribution (140 samples):\n",
      "  Liver                          140 samples (100.0%) ➡️ (was  99.9%)\n",
      "  Gallbladder                    140 samples (100.0%) ➡️ (was  99.6%)\n",
      "  Hepatocystic Triangle          140 samples (100.0%) ➡️ (was  99.3%)\n",
      "\n",
      "📈 Balance Metrics:\n",
      "  Original StdDev: 0.23%\n",
      "  Selected StdDev: 0.00%\n",
      "  Balance Improvement: 100.0%\n",
      "\n",
      "🔄 Step 3: Building pointing examples...\n",
      "Loaded cached pointing plan from fewshot_plan_pointing_140.json\n",
      "  Created 9 pointing examples\n",
      "    Positive: 3\n",
      "    Negative (absent): 3\n",
      "    Negative (wrong): 3\n",
      "\n",
      "🔄 Step 4: Building bounding box examples...\n",
      "Loaded cached bbox plan from fewshot_plan_bbox_140.json\n",
      "  Created 9 bbox examples\n",
      "    Positive: 3\n",
      "    Negative (absent): 3\n",
      "    Negative (wrong): 3\n",
      "    Multi-region: 1\n",
      "\n",
      "💾 Pipeline summary saved to: /shared_data0/weiqiuy/llm_cholec_organ/data_info/cholec_organs_balanced_200/pipeline_summary.json\n",
      "\n",
      "⚠️ WARNING: Expected 200 samples but got 140\n",
      "  Consider running with force_regenerate=True to clear cache\n"
     ]
    }
   ],
   "source": [
    "# Test CholecOrgans - force regeneration to use correct 20% quota  \n",
    "results_organs = test_dataset_simplified(\"cholec_organs\", force_regenerate=True)"
   ]
  },
  {
   "cell_type": "code",
   "execution_count": 5,
   "metadata": {},
   "outputs": [
    {
     "name": "stdout",
     "output_type": "stream",
     "text": [
      "\n",
      "======================================================================\n",
      "Testing: cholec_gonogo\n",
      "======================================================================\n",
      "Indexing training videos...\n"
     ]
    },
    {
     "name": "stderr",
     "output_type": "stream",
     "text": [
      "  Train videos: 100%|██████████| 96/96 [00:00<00:00, 577.35it/s]\n"
     ]
    },
    {
     "name": "stdout",
     "output_type": "stream",
     "text": [
      "Indexing test videos...\n"
     ]
    },
    {
     "name": "stderr",
     "output_type": "stream",
     "text": [
      "  Test videos: 100%|██████████| 25/25 [00:00<00:00, 567.19it/s]\n"
     ]
    },
    {
     "name": "stdout",
     "output_type": "stream",
     "text": [
      "Building examples list...\n"
     ]
    },
    {
     "name": "stderr",
     "output_type": "stream",
     "text": [
      "  Checking files: 100%|██████████| 1015/1015 [00:00<00:00, 6047.42it/s]\n"
     ]
    },
    {
     "name": "stdout",
     "output_type": "stream",
     "text": [
      "CholecGoNoGo dataset indexed:\n",
      "  Total examples: 1015\n",
      "  Train: 716 examples\n",
      "  Validation: 80 examples\n",
      "  Test: 219 examples\n",
      "\n",
      "📊 Dataset Info:\n",
      "  Tag: cholec_gonogo\n",
      "  Train: 716 examples\n",
      "  Classes: 2\n",
      "⚠️ Removing old cache file: balanced_test_indices_advanced_200.json\n",
      "  Cache cleared - will regenerate with correct parameters\n",
      "📁 Output directory: /shared_data0/weiqiuy/llm_cholec_organ/data_info/cholec_gonogo_balanced_200\n",
      "\n",
      "🔧 Configuration:\n",
      "  Test samples: 200\n",
      "  Min quota for rare classes: 40% (80 samples)\n",
      "  Cap for abundant classes: 70% of ideal distribution\n",
      "\n",
      "🔄 Step 1: Computing presence matrix for train split...\n",
      "Loaded cached presence matrix from presence_matrix_train.npy\n",
      "\n",
      "📊 Class distribution in train set:\n",
      "  Go                                652 samples ( 91.1%)\n",
      "  NoGo                              650 samples ( 90.8%)\n",
      "\n",
      "🔄 Step 2: Selecting 200 balanced test samples...\n",
      "  Configuration:\n",
      "    - Rare class boost: top 1 rarest classes\n",
      "    - Min quota for rare: 80 samples (40%)\n",
      "    - Cap for abundant: 70% of ideal distribution\n",
      "Using advanced balanced selection (rare_top_k=1, min_quota=80)...\n",
      "Saved balanced indices to balanced_test_indices_advanced_200.json\n",
      "\n",
      "📊 Class Distribution Report\n",
      "============================================================\n",
      "\n",
      "Original Distribution (716 samples):\n",
      "  Go                                652 samples ( 91.1%)\n",
      "  NoGo                              650 samples ( 90.8%)\n",
      "\n",
      "📊 Selected Distribution (151 samples):\n",
      "  Go                             140 samples ( 92.7%) ➡️ (was  91.1%)\n",
      "  NoGo                           140 samples ( 92.7%) ➡️ (was  90.8%)\n",
      "\n",
      "📈 Balance Metrics:\n",
      "  Original StdDev: 0.14%\n",
      "  Selected StdDev: 0.00%\n",
      "  Balance Improvement: 100.0%\n",
      "\n",
      "🔄 Step 3: Building pointing examples...\n",
      "Loaded cached pointing plan from fewshot_plan_pointing_151.json\n",
      "  Created 6 pointing examples\n",
      "    Positive: 2\n",
      "    Negative (absent): 2\n",
      "    Negative (wrong): 2\n",
      "\n",
      "🔄 Step 4: Building bounding box examples...\n",
      "Loaded cached bbox plan from fewshot_plan_bbox_151.json\n",
      "  Created 6 bbox examples\n",
      "    Positive: 2\n",
      "    Negative (absent): 2\n",
      "    Negative (wrong): 2\n",
      "\n",
      "💾 Pipeline summary saved to: /shared_data0/weiqiuy/llm_cholec_organ/data_info/cholec_gonogo_balanced_200/pipeline_summary.json\n",
      "\n",
      "⚠️ WARNING: Expected 200 samples but got 151\n",
      "  Consider running with force_regenerate=True to clear cache\n"
     ]
    }
   ],
   "source": [
    "# Test CholecGoNoGo - force regeneration to use correct 20% quota\n",
    "results_gonogo = test_dataset_simplified(\"cholec_gonogo\", force_regenerate=True)"
   ]
  },
  {
   "cell_type": "markdown",
   "metadata": {},
   "source": [
    "## Summary Comparison"
   ]
  },
  {
   "cell_type": "code",
   "execution_count": 6,
   "metadata": {
    "tags": []
   },
   "outputs": [
    {
     "name": "stdout",
     "output_type": "stream",
     "text": [
      "\n",
      "======================================================================\n",
      "📊 Summary: 200 Balanced Test Samples per Dataset\n",
      "======================================================================\n",
      "\n",
      "Dataset              Classes    Train Size   Test Size    Balance Improvement\n",
      "--------------------------------------------------------------------------------\n",
      "cholecseg8k_local    200        5760         200          🟢  +29.4%\n",
      "cholec_organs        140        716          140          🟢 +100.0%\n",
      "cholec_gonogo        151        716          151          🟢 +100.0%\n",
      "\n",
      "✅ All datasets now have 200 balanced test samples!\n",
      "📁 Summaries saved in each dataset's output directory as 'pipeline_summary.json'\n"
     ]
    }
   ],
   "source": [
    "# Compare results across datasets\n",
    "print(\"\\n\" + \"=\"*70)\n",
    "print(\"📊 Summary: 200 Balanced Test Samples per Dataset\")\n",
    "print(\"=\"*70)\n",
    "\n",
    "all_results = [\n",
    "    (\"cholecseg8k_local\", results_cholecseg8k),\n",
    "    (\"cholec_organs\", results_organs),\n",
    "    (\"cholec_gonogo\", results_gonogo)\n",
    "]\n",
    "\n",
    "print(f\"\\n{'Dataset':<20} {'Classes':<10} {'Train Size':<12} {'Test Size':<12} {'Balance Improvement'}\")\n",
    "print(\"-\" * 80)\n",
    "\n",
    "for dataset_name, res in all_results:\n",
    "    metrics = res['balance_comparison']['metrics']\n",
    "    improvement = metrics['balance_improvement_pct']\n",
    "    \n",
    "    # Color code based on improvement\n",
    "    if improvement > 20:\n",
    "        color = \"🟢\"\n",
    "    elif improvement > 10:\n",
    "        color = \"🟡\"\n",
    "    elif improvement > 0:\n",
    "        color = \"🟠\"\n",
    "    else:\n",
    "        color = \"🔴\"\n",
    "    \n",
    "    print(f\"{dataset_name:<20} {len(res['test_indices']):<10} \"\n",
    "          f\"{res['presence_matrix_shape'][0]:<12} {len(res['test_indices']):<12} \"\n",
    "          f\"{color} {improvement:+6.1f}%\")\n",
    "\n",
    "print(\"\\n✅ All datasets now have 200 balanced test samples!\")\n",
    "print(\"📁 Summaries saved in each dataset's output directory as 'pipeline_summary.json'\")"
   ]
  }
 ],
 "metadata": {
  "kernelspec": {
   "display_name": "Python 3 (ipykernel)",
   "language": "python",
   "name": "python3"
  },
  "language_info": {
   "codemirror_mode": {
    "name": "ipython",
    "version": 3
   },
   "file_extension": ".py",
   "mimetype": "text/x-python",
   "name": "python",
   "nbconvert_exporter": "python",
   "pygments_lexer": "ipython3",
   "version": "3.10.10"
  }
 },
 "nbformat": 4,
 "nbformat_minor": 4
}