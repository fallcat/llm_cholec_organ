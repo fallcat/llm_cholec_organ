{
 "cells": [
  {
   "cell_type": "code",
   "execution_count": 1,
   "id": "607d621a-4474-4655-94f0-9f320b90b42d",
   "metadata": {
    "tags": []
   },
   "outputs": [
    {
     "name": "stderr",
     "output_type": "stream",
     "text": [
      "The model weights are not tied. Please use the `tie_weights` method before using the `infer_auto_device` function.\n"
     ]
    },
    {
     "data": {
      "application/vnd.jupyter.widget-view+json": {
       "model_id": "ddf0c93aef8a4e4d8be5bbe66f17ff81",
       "version_major": 2,
       "version_minor": 0
      },
      "text/plain": [
       "Loading checkpoint shards:   0%|          | 0/5 [00:00<?, ?it/s]"
      ]
     },
     "metadata": {},
     "output_type": "display_data"
    },
    {
     "name": "stdout",
     "output_type": "stream",
     "text": [
      "user\n",
      "\n",
      "Detect presence of gallbladder and describe its location if visible.assistant\n",
      "\n",
      "The gallbladder is likely to be located in the upper right quadrant of the image, as this is the typical anatomical location for the gallbladder. It may appear as a pear-shaped organ, possibly with a greenish hue due to the bile it contains. The gallbladder's location would be indicated by the retraction of the surrounding tissues, which would expose the gallbladder's surface.\n"
     ]
    }
   ],
   "source": [
    "import torch\n",
    "from PIL import Image\n",
    "from transformers import AutoProcessor, MllamaForConditionalGeneration\n",
    "\n",
    "model_id = \"nvidia/Llama-3.2-11B-Vision-Surgical-CholecT50\"\n",
    "\n",
    "# Load model + processor\n",
    "model = MllamaForConditionalGeneration.from_pretrained(\n",
    "    model_id,\n",
    "    device_map=\"auto\",\n",
    "    torch_dtype=torch.bfloat16 if torch.cuda.is_bf16_supported() else torch.float16,\n",
    "    trust_remote_code=True,\n",
    ")\n",
    "processor = AutoProcessor.from_pretrained(model_id, trust_remote_code=True)\n",
    "\n",
    "# Build a chat with an image turn\n",
    "img = Image.open(\"/shared_data0/weiqiuy/real_drs/data/abdomen_exlib/images/cholec80_video20_006.png\").convert(\"RGB\")\n",
    "\n",
    "messages = [{\n",
    "    \"role\": \"user\",\n",
    "    \"content\": [\n",
    "        {\"type\": \"image\"},\n",
    "        {\"type\": \"text\", \"text\": \"Detect presence of gallbladder and describe its location if visible.\"}\n",
    "    ],\n",
    "}]\n",
    "\n",
    "# 1) Build the chat prompt text (no tokenization yet)\n",
    "prompt = processor.apply_chat_template(\n",
    "    messages,\n",
    "    add_generation_prompt=True,\n",
    "    tokenize=False,\n",
    ")\n",
    "\n",
    "# 2) Now tokenize text + image together\n",
    "inputs = processor(\n",
    "    text=[prompt],          # keep batched shapes\n",
    "    images=[img],\n",
    "    return_tensors=\"pt\",\n",
    ").to(model.device)\n",
    "\n",
    "with torch.no_grad():\n",
    "    out_ids = model.generate(**inputs, max_new_tokens=128, do_sample=False)\n",
    "\n",
    "print(processor.batch_decode(out_ids, skip_special_tokens=True)[0])"
   ]
  }
 ],
 "metadata": {
  "kernelspec": {
   "display_name": "Python 3 (ipykernel)",
   "language": "python",
   "name": "python3"
  },
  "language_info": {
   "codemirror_mode": {
    "name": "ipython",
    "version": 3
   },
   "file_extension": ".py",
   "mimetype": "text/x-python",
   "name": "python",
   "nbconvert_exporter": "python",
   "pygments_lexer": "ipython3",
   "version": "3.10.10"
  }
 },
 "nbformat": 4,
 "nbformat_minor": 5
}
